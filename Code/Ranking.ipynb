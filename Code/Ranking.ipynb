{
 "cells": [
  {
   "cell_type": "code",
   "execution_count": 1,
   "id": "82a98b1f-999d-465d-bc1d-dab2e6be2763",
   "metadata": {},
   "outputs": [],
   "source": [
    "import os\n",
    "import numpy as np\n",
    "import pandas as pd"
   ]
  },
  {
   "cell_type": "code",
   "execution_count": 2,
   "id": "50a2e47c-8791-4913-9b84-d4c02af546ff",
   "metadata": {},
   "outputs": [],
   "source": [
    "data=pd.read_csv(\"./international_results/results.csv\")"
   ]
  },
  {
   "cell_type": "code",
   "execution_count": 3,
   "id": "ed717e5a-a2f5-4512-a8d4-40ddc7176914",
   "metadata": {},
   "outputs": [
    {
     "data": {
      "text/plain": [
       "(42650, 9)"
      ]
     },
     "execution_count": 3,
     "metadata": {},
     "output_type": "execute_result"
    }
   ],
   "source": [
    "data.shape"
   ]
  },
  {
   "cell_type": "code",
   "execution_count": 4,
   "id": "6851428e-5c41-4b43-b1de-2c55bb58f218",
   "metadata": {},
   "outputs": [
    {
     "data": {
      "text/html": [
       "<div>\n",
       "<style scoped>\n",
       "    .dataframe tbody tr th:only-of-type {\n",
       "        vertical-align: middle;\n",
       "    }\n",
       "\n",
       "    .dataframe tbody tr th {\n",
       "        vertical-align: top;\n",
       "    }\n",
       "\n",
       "    .dataframe thead th {\n",
       "        text-align: right;\n",
       "    }\n",
       "</style>\n",
       "<table border=\"1\" class=\"dataframe\">\n",
       "  <thead>\n",
       "    <tr style=\"text-align: right;\">\n",
       "      <th></th>\n",
       "      <th>date</th>\n",
       "      <th>home_team</th>\n",
       "      <th>away_team</th>\n",
       "      <th>home_score</th>\n",
       "      <th>away_score</th>\n",
       "      <th>tournament</th>\n",
       "      <th>city</th>\n",
       "      <th>country</th>\n",
       "      <th>neutral</th>\n",
       "    </tr>\n",
       "  </thead>\n",
       "  <tbody>\n",
       "    <tr>\n",
       "      <th>0</th>\n",
       "      <td>1872-11-30</td>\n",
       "      <td>Scotland</td>\n",
       "      <td>England</td>\n",
       "      <td>0</td>\n",
       "      <td>0</td>\n",
       "      <td>Friendly</td>\n",
       "      <td>Glasgow</td>\n",
       "      <td>Scotland</td>\n",
       "      <td>False</td>\n",
       "    </tr>\n",
       "    <tr>\n",
       "      <th>1</th>\n",
       "      <td>1873-03-08</td>\n",
       "      <td>England</td>\n",
       "      <td>Scotland</td>\n",
       "      <td>4</td>\n",
       "      <td>2</td>\n",
       "      <td>Friendly</td>\n",
       "      <td>London</td>\n",
       "      <td>England</td>\n",
       "      <td>False</td>\n",
       "    </tr>\n",
       "    <tr>\n",
       "      <th>2</th>\n",
       "      <td>1874-03-07</td>\n",
       "      <td>Scotland</td>\n",
       "      <td>England</td>\n",
       "      <td>2</td>\n",
       "      <td>1</td>\n",
       "      <td>Friendly</td>\n",
       "      <td>Glasgow</td>\n",
       "      <td>Scotland</td>\n",
       "      <td>False</td>\n",
       "    </tr>\n",
       "    <tr>\n",
       "      <th>3</th>\n",
       "      <td>1875-03-06</td>\n",
       "      <td>England</td>\n",
       "      <td>Scotland</td>\n",
       "      <td>2</td>\n",
       "      <td>2</td>\n",
       "      <td>Friendly</td>\n",
       "      <td>London</td>\n",
       "      <td>England</td>\n",
       "      <td>False</td>\n",
       "    </tr>\n",
       "    <tr>\n",
       "      <th>4</th>\n",
       "      <td>1876-03-04</td>\n",
       "      <td>Scotland</td>\n",
       "      <td>England</td>\n",
       "      <td>3</td>\n",
       "      <td>0</td>\n",
       "      <td>Friendly</td>\n",
       "      <td>Glasgow</td>\n",
       "      <td>Scotland</td>\n",
       "      <td>False</td>\n",
       "    </tr>\n",
       "  </tbody>\n",
       "</table>\n",
       "</div>"
      ],
      "text/plain": [
       "         date home_team away_team  home_score  away_score tournament     city  \\\n",
       "0  1872-11-30  Scotland   England           0           0   Friendly  Glasgow   \n",
       "1  1873-03-08   England  Scotland           4           2   Friendly   London   \n",
       "2  1874-03-07  Scotland   England           2           1   Friendly  Glasgow   \n",
       "3  1875-03-06   England  Scotland           2           2   Friendly   London   \n",
       "4  1876-03-04  Scotland   England           3           0   Friendly  Glasgow   \n",
       "\n",
       "    country  neutral  \n",
       "0  Scotland    False  \n",
       "1   England    False  \n",
       "2  Scotland    False  \n",
       "3   England    False  \n",
       "4  Scotland    False  "
      ]
     },
     "execution_count": 4,
     "metadata": {},
     "output_type": "execute_result"
    }
   ],
   "source": [
    "data.head()"
   ]
  },
  {
   "cell_type": "code",
   "execution_count": 11,
   "id": "db548abe-9042-47a5-a83f-b3f7844fa636",
   "metadata": {},
   "outputs": [],
   "source": [
    "country=pd.concat([data['home_team'],data['away_team']]).unique()"
   ]
  },
  {
   "cell_type": "code",
   "execution_count": 14,
   "id": "35fb2ec2-1682-41a3-9a84-365c7824061b",
   "metadata": {},
   "outputs": [
    {
     "name": "stdout",
     "output_type": "stream",
     "text": [
      "country:  313\n"
     ]
    }
   ],
   "source": [
    "print(\"country: \",len(country) )"
   ]
  },
  {
   "cell_type": "code",
   "execution_count": 15,
   "id": "0d6891bd-befa-49f9-a53e-d47a8e0fa164",
   "metadata": {},
   "outputs": [
    {
     "name": "stdout",
     "output_type": "stream",
     "text": [
      "Scotland England\n"
     ]
    }
   ],
   "source": [
    "A=country[0]\n",
    "B=country[1]\n",
    "print(A,B)"
   ]
  },
  {
   "cell_type": "code",
   "execution_count": 29,
   "id": "bb22880f-020d-4876-9745-f899bf91f5e6",
   "metadata": {},
   "outputs": [],
   "source": [
    "dfAB=data[(data['home_team']==A)& (data['away_team']==B)] \n",
    "dfBA=data[(data['home_team']==B)& (data['away_team']==A)] "
   ]
  },
  {
   "cell_type": "code",
   "execution_count": 26,
   "id": "be24f558-8f2f-4432-8ecc-823962d0504e",
   "metadata": {},
   "outputs": [
    {
     "data": {
      "text/html": [
       "<div>\n",
       "<style scoped>\n",
       "    .dataframe tbody tr th:only-of-type {\n",
       "        vertical-align: middle;\n",
       "    }\n",
       "\n",
       "    .dataframe tbody tr th {\n",
       "        vertical-align: top;\n",
       "    }\n",
       "\n",
       "    .dataframe thead th {\n",
       "        text-align: right;\n",
       "    }\n",
       "</style>\n",
       "<table border=\"1\" class=\"dataframe\">\n",
       "  <thead>\n",
       "    <tr style=\"text-align: right;\">\n",
       "      <th></th>\n",
       "      <th>date</th>\n",
       "      <th>home_team</th>\n",
       "      <th>away_team</th>\n",
       "      <th>home_score</th>\n",
       "      <th>away_score</th>\n",
       "      <th>tournament</th>\n",
       "      <th>city</th>\n",
       "      <th>country</th>\n",
       "      <th>neutral</th>\n",
       "    </tr>\n",
       "  </thead>\n",
       "  <tbody>\n",
       "    <tr>\n",
       "      <th>0</th>\n",
       "      <td>1872-11-30</td>\n",
       "      <td>Scotland</td>\n",
       "      <td>England</td>\n",
       "      <td>0</td>\n",
       "      <td>0</td>\n",
       "      <td>Friendly</td>\n",
       "      <td>Glasgow</td>\n",
       "      <td>Scotland</td>\n",
       "      <td>False</td>\n",
       "    </tr>\n",
       "    <tr>\n",
       "      <th>2</th>\n",
       "      <td>1874-03-07</td>\n",
       "      <td>Scotland</td>\n",
       "      <td>England</td>\n",
       "      <td>2</td>\n",
       "      <td>1</td>\n",
       "      <td>Friendly</td>\n",
       "      <td>Glasgow</td>\n",
       "      <td>Scotland</td>\n",
       "      <td>False</td>\n",
       "    </tr>\n",
       "    <tr>\n",
       "      <th>4</th>\n",
       "      <td>1876-03-04</td>\n",
       "      <td>Scotland</td>\n",
       "      <td>England</td>\n",
       "      <td>3</td>\n",
       "      <td>0</td>\n",
       "      <td>Friendly</td>\n",
       "      <td>Glasgow</td>\n",
       "      <td>Scotland</td>\n",
       "      <td>False</td>\n",
       "    </tr>\n",
       "    <tr>\n",
       "      <th>8</th>\n",
       "      <td>1878-03-02</td>\n",
       "      <td>Scotland</td>\n",
       "      <td>England</td>\n",
       "      <td>7</td>\n",
       "      <td>2</td>\n",
       "      <td>Friendly</td>\n",
       "      <td>Glasgow</td>\n",
       "      <td>Scotland</td>\n",
       "      <td>False</td>\n",
       "    </tr>\n",
       "    <tr>\n",
       "      <th>13</th>\n",
       "      <td>1880-03-13</td>\n",
       "      <td>Scotland</td>\n",
       "      <td>England</td>\n",
       "      <td>5</td>\n",
       "      <td>4</td>\n",
       "      <td>Friendly</td>\n",
       "      <td>Glasgow</td>\n",
       "      <td>Scotland</td>\n",
       "      <td>False</td>\n",
       "    </tr>\n",
       "  </tbody>\n",
       "</table>\n",
       "</div>"
      ],
      "text/plain": [
       "          date home_team away_team  home_score  away_score tournament  \\\n",
       "0   1872-11-30  Scotland   England           0           0   Friendly   \n",
       "2   1874-03-07  Scotland   England           2           1   Friendly   \n",
       "4   1876-03-04  Scotland   England           3           0   Friendly   \n",
       "8   1878-03-02  Scotland   England           7           2   Friendly   \n",
       "13  1880-03-13  Scotland   England           5           4   Friendly   \n",
       "\n",
       "       city   country  neutral  \n",
       "0   Glasgow  Scotland    False  \n",
       "2   Glasgow  Scotland    False  \n",
       "4   Glasgow  Scotland    False  \n",
       "8   Glasgow  Scotland    False  \n",
       "13  Glasgow  Scotland    False  "
      ]
     },
     "execution_count": 26,
     "metadata": {},
     "output_type": "execute_result"
    }
   ],
   "source": [
    "dfAB.head()"
   ]
  },
  {
   "cell_type": "code",
   "execution_count": 48,
   "id": "4ee50e47-2f15-43b7-98c2-b148021aea3d",
   "metadata": {},
   "outputs": [],
   "source": [
    "dfA1=dfAB['home_score']\n",
    "dfB1=dfAB['away_score']"
   ]
  },
  {
   "cell_type": "code",
   "execution_count": null,
   "id": "6485dd10-e30e-4629-8997-5838d724690d",
   "metadata": {},
   "outputs": [],
   "source": []
  },
  {
   "cell_type": "code",
   "execution_count": 30,
   "id": "f452e947-1e68-4edb-86da-2f58e9d363a8",
   "metadata": {},
   "outputs": [
    {
     "data": {
      "text/html": [
       "<div>\n",
       "<style scoped>\n",
       "    .dataframe tbody tr th:only-of-type {\n",
       "        vertical-align: middle;\n",
       "    }\n",
       "\n",
       "    .dataframe tbody tr th {\n",
       "        vertical-align: top;\n",
       "    }\n",
       "\n",
       "    .dataframe thead th {\n",
       "        text-align: right;\n",
       "    }\n",
       "</style>\n",
       "<table border=\"1\" class=\"dataframe\">\n",
       "  <thead>\n",
       "    <tr style=\"text-align: right;\">\n",
       "      <th></th>\n",
       "      <th>date</th>\n",
       "      <th>home_team</th>\n",
       "      <th>away_team</th>\n",
       "      <th>home_score</th>\n",
       "      <th>away_score</th>\n",
       "      <th>tournament</th>\n",
       "      <th>city</th>\n",
       "      <th>country</th>\n",
       "      <th>neutral</th>\n",
       "    </tr>\n",
       "  </thead>\n",
       "  <tbody>\n",
       "    <tr>\n",
       "      <th>1</th>\n",
       "      <td>1873-03-08</td>\n",
       "      <td>England</td>\n",
       "      <td>Scotland</td>\n",
       "      <td>4</td>\n",
       "      <td>2</td>\n",
       "      <td>Friendly</td>\n",
       "      <td>London</td>\n",
       "      <td>England</td>\n",
       "      <td>False</td>\n",
       "    </tr>\n",
       "    <tr>\n",
       "      <th>3</th>\n",
       "      <td>1875-03-06</td>\n",
       "      <td>England</td>\n",
       "      <td>Scotland</td>\n",
       "      <td>2</td>\n",
       "      <td>2</td>\n",
       "      <td>Friendly</td>\n",
       "      <td>London</td>\n",
       "      <td>England</td>\n",
       "      <td>False</td>\n",
       "    </tr>\n",
       "    <tr>\n",
       "      <th>6</th>\n",
       "      <td>1877-03-03</td>\n",
       "      <td>England</td>\n",
       "      <td>Scotland</td>\n",
       "      <td>1</td>\n",
       "      <td>3</td>\n",
       "      <td>Friendly</td>\n",
       "      <td>London</td>\n",
       "      <td>England</td>\n",
       "      <td>False</td>\n",
       "    </tr>\n",
       "    <tr>\n",
       "      <th>11</th>\n",
       "      <td>1879-04-05</td>\n",
       "      <td>England</td>\n",
       "      <td>Scotland</td>\n",
       "      <td>5</td>\n",
       "      <td>4</td>\n",
       "      <td>Friendly</td>\n",
       "      <td>London</td>\n",
       "      <td>England</td>\n",
       "      <td>False</td>\n",
       "    </tr>\n",
       "    <tr>\n",
       "      <th>17</th>\n",
       "      <td>1881-03-12</td>\n",
       "      <td>England</td>\n",
       "      <td>Scotland</td>\n",
       "      <td>1</td>\n",
       "      <td>6</td>\n",
       "      <td>Friendly</td>\n",
       "      <td>London</td>\n",
       "      <td>England</td>\n",
       "      <td>False</td>\n",
       "    </tr>\n",
       "  </tbody>\n",
       "</table>\n",
       "</div>"
      ],
      "text/plain": [
       "          date home_team away_team  home_score  away_score tournament    city  \\\n",
       "1   1873-03-08   England  Scotland           4           2   Friendly  London   \n",
       "3   1875-03-06   England  Scotland           2           2   Friendly  London   \n",
       "6   1877-03-03   England  Scotland           1           3   Friendly  London   \n",
       "11  1879-04-05   England  Scotland           5           4   Friendly  London   \n",
       "17  1881-03-12   England  Scotland           1           6   Friendly  London   \n",
       "\n",
       "    country  neutral  \n",
       "1   England    False  \n",
       "3   England    False  \n",
       "6   England    False  \n",
       "11  England    False  \n",
       "17  England    False  "
      ]
     },
     "execution_count": 30,
     "metadata": {},
     "output_type": "execute_result"
    }
   ],
   "source": [
    "dfBA.head()"
   ]
  },
  {
   "cell_type": "code",
   "execution_count": 57,
   "id": "461c7f11-2e27-40db-b2a3-7969780ef8e8",
   "metadata": {},
   "outputs": [],
   "source": [
    "dfA2=dfBA['away_score']\n",
    "dfB2=dfBA['home_score']"
   ]
  },
  {
   "cell_type": "code",
   "execution_count": 58,
   "id": "84f8a860-56b5-4d2e-b889-c66a75c32349",
   "metadata": {},
   "outputs": [],
   "source": [
    "dfA=pd.concat([dfA1,dfA2],axis=0)\n",
    "dfB=pd.concat([dfB1,dfB2],axis=0)"
   ]
  },
  {
   "cell_type": "code",
   "execution_count": 59,
   "id": "96c8734f-3660-4f22-b4c7-8cd188cc1fb4",
   "metadata": {},
   "outputs": [
    {
     "data": {
      "text/plain": [
       "(117, 117)"
      ]
     },
     "execution_count": 59,
     "metadata": {},
     "output_type": "execute_result"
    }
   ],
   "source": [
    "len(dfA),len(dfB)"
   ]
  },
  {
   "cell_type": "code",
   "execution_count": 74,
   "id": "0149d821-0f57-4581-b770-11c42bd0c439",
   "metadata": {},
   "outputs": [],
   "source": [
    "n_games=len(dfA)\n",
    "win_A=0\n",
    "win_B=0\n",
    "draw_AB=0\n",
    "for i in range(n_games):\n",
    "    a=dfA.iloc[i]\n",
    "    b=dfB.iloc[i]\n",
    "    if (a>b):\n",
    "        win_A+=1\n",
    "    elif (a<b):\n",
    "        win_B+=1\n",
    "    else:\n",
    "        draw_AB+=1"
   ]
  },
  {
   "cell_type": "code",
   "execution_count": 75,
   "id": "18aebefb-8e63-4615-8a7a-33391ffa045c",
   "metadata": {},
   "outputs": [
    {
     "name": "stdout",
     "output_type": "stream",
     "text": [
      "Scotland win:  42 ;  England win:  48 ; draw:  27\n"
     ]
    }
   ],
   "source": [
    "print(A, \"win: \", win_A,\"; \" ,B,\"win: \", win_B,\"; draw: \", draw_AB)"
   ]
  },
  {
   "cell_type": "code",
   "execution_count": 76,
   "id": "41b46877-92f9-442b-8907-1768f9a3ea22",
   "metadata": {},
   "outputs": [
    {
     "name": "stdout",
     "output_type": "stream",
     "text": [
      "Scotland win:  55.5 ;  England win:  61.5\n"
     ]
    }
   ],
   "source": [
    "win_A+=draw_AB/2\n",
    "win_B+=draw_AB/2\n",
    "print(A, \"win: \", win_A,\"; \" ,B,\"win: \", win_B)"
   ]
  },
  {
   "cell_type": "code",
   "execution_count": 77,
   "id": "83968c8f-5471-4fe9-ad74-fc8c9ff6f687",
   "metadata": {},
   "outputs": [
    {
     "name": "stdout",
     "output_type": "stream",
     "text": [
      "Scotland  to  England 0.5256410256410257 ;  England  to  Scotland 0.47435897435897434\n"
     ]
    }
   ],
   "source": [
    "print(A, \" to \", B, win_B/n_games,\"; \" ,B,\" to \", A, win_A/n_games)"
   ]
  },
  {
   "cell_type": "code",
   "execution_count": 154,
   "id": "4d2272c0-f4a7-4218-9b48-ed7399d7729e",
   "metadata": {},
   "outputs": [],
   "source": [
    "def calculate_weight(A,B):\n",
    "    dfAB=data[(data['home_team']==A)& (data['away_team']==B)]\n",
    "    dfA1=dfAB['home_score']\n",
    "    dfB1=dfAB['away_score']\n",
    "    dfBA=data[(data['home_team']==B)& (data['away_team']==A)]\n",
    "    dfA2=dfBA['away_score']\n",
    "    dfB2=dfBA['home_score']\n",
    "    \n",
    "    dfA=pd.concat([dfA1,dfA2],axis=0)\n",
    "    dfB=pd.concat([dfB1,dfB2],axis=0)\n",
    "    \n",
    "    n_games=len(dfA)\n",
    "    if (n_games>0):\n",
    "        win_A=0\n",
    "        win_B=0\n",
    "        draw_AB=0\n",
    "        for i in range(n_games):\n",
    "            a=dfA.iloc[i]\n",
    "            b=dfB.iloc[i]\n",
    "            if (a>b):\n",
    "                win_A+=1\n",
    "            elif (a<b):\n",
    "                win_B+=1\n",
    "            else:\n",
    "                draw_AB+=1\n",
    "\n",
    "        #win_A+=draw_AB/2\n",
    "        #win_B+=draw_AB/2\n",
    "\n",
    "        AtoB=win_B/n_games\n",
    "        BtoA=win_A/n_games\n",
    "    else:\n",
    "        AtoB=0.0\n",
    "        BtoA=0.0\n",
    "    return (AtoB,BtoA)\n",
    "    "
   ]
  },
  {
   "cell_type": "code",
   "execution_count": 155,
   "id": "c48e4931-1ea7-4af5-b822-4c00b2902d6f",
   "metadata": {},
   "outputs": [
    {
     "name": "stdout",
     "output_type": "stream",
     "text": [
      "Scotland England\n",
      "Scotland  to  England 0.41025641025641024 ;  England  to  Scotland 0.358974358974359\n"
     ]
    }
   ],
   "source": [
    "A=country[0]\n",
    "B=country[1]\n",
    "print(A,B)\n",
    "AtoB,BtoA=calculate_weight(A,B)\n",
    "print(A, \" to \", B, AtoB,\"; \" ,B,\" to \", A, BtoA)"
   ]
  },
  {
   "cell_type": "code",
   "execution_count": 156,
   "id": "b23ac699-5a95-432d-a6e8-142342b704cd",
   "metadata": {},
   "outputs": [
    {
     "name": "stdout",
     "output_type": "stream",
     "text": [
      "country:  313\n"
     ]
    }
   ],
   "source": [
    "n=len(country)\n",
    "print(\"country: \",n)"
   ]
  },
  {
   "cell_type": "code",
   "execution_count": 157,
   "id": "70bd2087-6b13-4051-a609-937855021fba",
   "metadata": {},
   "outputs": [],
   "source": [
    "M=np.zeros((n,n))"
   ]
  },
  {
   "cell_type": "code",
   "execution_count": 158,
   "id": "9d05ce22-658f-4c50-9ec6-185a78d3dc9d",
   "metadata": {},
   "outputs": [],
   "source": [
    "for i in range(n):\n",
    "    for j in range(i+1,n):\n",
    "        A=country[i]\n",
    "        B=country[j]\n",
    "        AtoB,BtoA=calculate_weight(A,B)\n",
    "        M[i,j]=AtoB\n",
    "        M[j,i]=BtoA"
   ]
  },
  {
   "cell_type": "code",
   "execution_count": 159,
   "id": "9b18e9f3-4f6d-4d28-948b-a6ac64f4f572",
   "metadata": {},
   "outputs": [],
   "source": [
    "np.save('weights_1.npy', M)"
   ]
  },
  {
   "cell_type": "code",
   "execution_count": 160,
   "id": "8f3d32c1-f0a0-4731-8a85-fc47e7f5d422",
   "metadata": {},
   "outputs": [],
   "source": [
    "dfm=pd.DataFrame(M,columns=country,index=country)"
   ]
  },
  {
   "cell_type": "code",
   "execution_count": 161,
   "id": "10e78db5-f5f5-484d-a6bf-0d1419c2674e",
   "metadata": {},
   "outputs": [
    {
     "data": {
      "text/html": [
       "<div>\n",
       "<style scoped>\n",
       "    .dataframe tbody tr th:only-of-type {\n",
       "        vertical-align: middle;\n",
       "    }\n",
       "\n",
       "    .dataframe tbody tr th {\n",
       "        vertical-align: top;\n",
       "    }\n",
       "\n",
       "    .dataframe thead th {\n",
       "        text-align: right;\n",
       "    }\n",
       "</style>\n",
       "<table border=\"1\" class=\"dataframe\">\n",
       "  <thead>\n",
       "    <tr style=\"text-align: right;\">\n",
       "      <th></th>\n",
       "      <th>Scotland</th>\n",
       "      <th>England</th>\n",
       "      <th>Wales</th>\n",
       "      <th>Northern Ireland</th>\n",
       "      <th>United States</th>\n",
       "      <th>Uruguay</th>\n",
       "      <th>Austria</th>\n",
       "      <th>Hungary</th>\n",
       "      <th>Argentina</th>\n",
       "      <th>Belgium</th>\n",
       "      <th>...</th>\n",
       "      <th>Timor-Leste</th>\n",
       "      <th>Myanmar</th>\n",
       "      <th>Parishes of Jersey</th>\n",
       "      <th>Chameria</th>\n",
       "      <th>Saint Helena</th>\n",
       "      <th>Asturias</th>\n",
       "      <th>Western Australia</th>\n",
       "      <th>Two Sicilies</th>\n",
       "      <th>Surrey</th>\n",
       "      <th>Malabo</th>\n",
       "    </tr>\n",
       "  </thead>\n",
       "  <tbody>\n",
       "    <tr>\n",
       "      <th>Scotland</th>\n",
       "      <td>0.000000</td>\n",
       "      <td>0.410256</td>\n",
       "      <td>0.216981</td>\n",
       "      <td>0.157895</td>\n",
       "      <td>0.200000</td>\n",
       "      <td>0.500000</td>\n",
       "      <td>0.363636</td>\n",
       "      <td>0.444444</td>\n",
       "      <td>0.5</td>\n",
       "      <td>0.650000</td>\n",
       "      <td>...</td>\n",
       "      <td>0.0</td>\n",
       "      <td>0.0</td>\n",
       "      <td>0.0</td>\n",
       "      <td>0.0</td>\n",
       "      <td>0.0</td>\n",
       "      <td>0.0</td>\n",
       "      <td>0.0</td>\n",
       "      <td>0.0</td>\n",
       "      <td>0.0</td>\n",
       "      <td>0.0</td>\n",
       "    </tr>\n",
       "    <tr>\n",
       "      <th>England</th>\n",
       "      <td>0.358974</td>\n",
       "      <td>0.000000</td>\n",
       "      <td>0.144231</td>\n",
       "      <td>0.070707</td>\n",
       "      <td>0.181818</td>\n",
       "      <td>0.454545</td>\n",
       "      <td>0.210526</td>\n",
       "      <td>0.217391</td>\n",
       "      <td>0.2</td>\n",
       "      <td>0.153846</td>\n",
       "      <td>...</td>\n",
       "      <td>0.0</td>\n",
       "      <td>0.0</td>\n",
       "      <td>0.0</td>\n",
       "      <td>0.0</td>\n",
       "      <td>0.0</td>\n",
       "      <td>0.0</td>\n",
       "      <td>0.0</td>\n",
       "      <td>0.0</td>\n",
       "      <td>0.0</td>\n",
       "      <td>0.0</td>\n",
       "    </tr>\n",
       "    <tr>\n",
       "      <th>Wales</th>\n",
       "      <td>0.575472</td>\n",
       "      <td>0.653846</td>\n",
       "      <td>0.000000</td>\n",
       "      <td>0.276596</td>\n",
       "      <td>0.500000</td>\n",
       "      <td>0.500000</td>\n",
       "      <td>0.500000</td>\n",
       "      <td>0.363636</td>\n",
       "      <td>0.5</td>\n",
       "      <td>0.428571</td>\n",
       "      <td>...</td>\n",
       "      <td>0.0</td>\n",
       "      <td>0.0</td>\n",
       "      <td>0.0</td>\n",
       "      <td>0.0</td>\n",
       "      <td>0.0</td>\n",
       "      <td>0.0</td>\n",
       "      <td>0.0</td>\n",
       "      <td>0.0</td>\n",
       "      <td>0.0</td>\n",
       "      <td>0.0</td>\n",
       "    </tr>\n",
       "    <tr>\n",
       "      <th>Northern Ireland</th>\n",
       "      <td>0.663158</td>\n",
       "      <td>0.767677</td>\n",
       "      <td>0.478723</td>\n",
       "      <td>0.000000</td>\n",
       "      <td>0.500000</td>\n",
       "      <td>0.500000</td>\n",
       "      <td>0.461538</td>\n",
       "      <td>0.666667</td>\n",
       "      <td>1.0</td>\n",
       "      <td>0.333333</td>\n",
       "      <td>...</td>\n",
       "      <td>0.0</td>\n",
       "      <td>0.0</td>\n",
       "      <td>0.0</td>\n",
       "      <td>0.0</td>\n",
       "      <td>0.0</td>\n",
       "      <td>0.0</td>\n",
       "      <td>0.0</td>\n",
       "      <td>0.0</td>\n",
       "      <td>0.0</td>\n",
       "      <td>0.0</td>\n",
       "    </tr>\n",
       "    <tr>\n",
       "      <th>United States</th>\n",
       "      <td>0.500000</td>\n",
       "      <td>0.727273</td>\n",
       "      <td>0.000000</td>\n",
       "      <td>0.500000</td>\n",
       "      <td>0.000000</td>\n",
       "      <td>0.166667</td>\n",
       "      <td>0.666667</td>\n",
       "      <td>0.333333</td>\n",
       "      <td>0.6</td>\n",
       "      <td>0.833333</td>\n",
       "      <td>...</td>\n",
       "      <td>0.0</td>\n",
       "      <td>0.0</td>\n",
       "      <td>0.0</td>\n",
       "      <td>0.0</td>\n",
       "      <td>0.0</td>\n",
       "      <td>0.0</td>\n",
       "      <td>0.0</td>\n",
       "      <td>0.0</td>\n",
       "      <td>0.0</td>\n",
       "      <td>0.0</td>\n",
       "    </tr>\n",
       "  </tbody>\n",
       "</table>\n",
       "<p>5 rows × 313 columns</p>\n",
       "</div>"
      ],
      "text/plain": [
       "                  Scotland   England     Wales  Northern Ireland  \\\n",
       "Scotland          0.000000  0.410256  0.216981          0.157895   \n",
       "England           0.358974  0.000000  0.144231          0.070707   \n",
       "Wales             0.575472  0.653846  0.000000          0.276596   \n",
       "Northern Ireland  0.663158  0.767677  0.478723          0.000000   \n",
       "United States     0.500000  0.727273  0.000000          0.500000   \n",
       "\n",
       "                  United States   Uruguay   Austria   Hungary  Argentina  \\\n",
       "Scotland               0.200000  0.500000  0.363636  0.444444        0.5   \n",
       "England                0.181818  0.454545  0.210526  0.217391        0.2   \n",
       "Wales                  0.500000  0.500000  0.500000  0.363636        0.5   \n",
       "Northern Ireland       0.500000  0.500000  0.461538  0.666667        1.0   \n",
       "United States          0.000000  0.166667  0.666667  0.333333        0.6   \n",
       "\n",
       "                   Belgium  ...  Timor-Leste  Myanmar  Parishes of Jersey  \\\n",
       "Scotland          0.650000  ...          0.0      0.0                 0.0   \n",
       "England           0.153846  ...          0.0      0.0                 0.0   \n",
       "Wales             0.428571  ...          0.0      0.0                 0.0   \n",
       "Northern Ireland  0.333333  ...          0.0      0.0                 0.0   \n",
       "United States     0.833333  ...          0.0      0.0                 0.0   \n",
       "\n",
       "                  Chameria  Saint Helena  Asturias  Western Australia  \\\n",
       "Scotland               0.0           0.0       0.0                0.0   \n",
       "England                0.0           0.0       0.0                0.0   \n",
       "Wales                  0.0           0.0       0.0                0.0   \n",
       "Northern Ireland       0.0           0.0       0.0                0.0   \n",
       "United States          0.0           0.0       0.0                0.0   \n",
       "\n",
       "                  Two Sicilies  Surrey  Malabo  \n",
       "Scotland                   0.0     0.0     0.0  \n",
       "England                    0.0     0.0     0.0  \n",
       "Wales                      0.0     0.0     0.0  \n",
       "Northern Ireland           0.0     0.0     0.0  \n",
       "United States              0.0     0.0     0.0  \n",
       "\n",
       "[5 rows x 313 columns]"
      ]
     },
     "execution_count": 161,
     "metadata": {},
     "output_type": "execute_result"
    }
   ],
   "source": [
    "dfm.head()"
   ]
  },
  {
   "cell_type": "code",
   "execution_count": 162,
   "id": "faa56052-e4f1-4ed4-af83-486424708431",
   "metadata": {},
   "outputs": [],
   "source": [
    "dfm.to_csv(\"Weights_1.csv\")"
   ]
  },
  {
   "cell_type": "code",
   "execution_count": 163,
   "id": "46200ab8-01e9-4111-8b19-dc83a3b0eeef",
   "metadata": {},
   "outputs": [
    {
     "data": {
      "text/plain": [
       "array([[0.        , 0.41025641],\n",
       "       [0.35897436, 0.        ]])"
      ]
     },
     "execution_count": 163,
     "metadata": {},
     "output_type": "execute_result"
    }
   ],
   "source": [
    "M[:2,:2]"
   ]
  },
  {
   "cell_type": "code",
   "execution_count": 164,
   "id": "6a7bbeee-c8ab-46ec-827f-623b285c28e0",
   "metadata": {},
   "outputs": [
    {
     "name": "stdout",
     "output_type": "stream",
     "text": [
      "0.15 313\n"
     ]
    }
   ],
   "source": [
    "#damping_factor d\n",
    "damping_factor=0.15\n",
    "N=len(M)\n",
    "print(damping_factor,N)"
   ]
  },
  {
   "cell_type": "code",
   "execution_count": 165,
   "id": "72d0e001-0ed9-4dec-960e-aaa3555bf4bf",
   "metadata": {},
   "outputs": [],
   "source": [
    "M_sum=M.sum(axis=0)"
   ]
  },
  {
   "cell_type": "code",
   "execution_count": 166,
   "id": "6a35dbe8-c078-4e98-9c8f-ecde06bfc0d7",
   "metadata": {},
   "outputs": [
    {
     "data": {
      "text/plain": [
       "35.73336002581578"
      ]
     },
     "execution_count": 166,
     "metadata": {},
     "output_type": "execute_result"
    }
   ],
   "source": [
    "M_sum[0]"
   ]
  },
  {
   "cell_type": "code",
   "execution_count": 167,
   "id": "60a79b63-4060-40db-946e-bd1b41281493",
   "metadata": {},
   "outputs": [],
   "source": [
    "W=M.T"
   ]
  },
  {
   "cell_type": "code",
   "execution_count": 168,
   "id": "3883d2c9-b4c3-4d83-9f36-07538b8fb6bf",
   "metadata": {},
   "outputs": [],
   "source": [
    "P=np.zeros_like(W)\n",
    "for j in range(N):\n",
    "    s=W[:,j].sum()\n",
    "    if (s!=0):\n",
    "        P[:,j]=W[:,j]/s"
   ]
  },
  {
   "cell_type": "code",
   "execution_count": 169,
   "id": "0f59b4dd-68fc-4abb-9503-5e1ff9fb05dc",
   "metadata": {},
   "outputs": [],
   "source": [
    "Q=(1-damping_factor)*P+damping_factor/N"
   ]
  },
  {
   "cell_type": "code",
   "execution_count": 170,
   "id": "f902e8c6-42ee-47af-bbf0-ef858e769c84",
   "metadata": {},
   "outputs": [],
   "source": [
    "eigenvector=np.ones(N)/N"
   ]
  },
  {
   "cell_type": "code",
   "execution_count": 171,
   "id": "3fc13f6f-6198-4e8d-a3a4-f617e93682fc",
   "metadata": {},
   "outputs": [],
   "source": [
    "max_iteration=100\n",
    "for i in range(max_iteration):\n",
    "    x=np.dot(Q,eigenvector)\n",
    "    eigenvector=x/np.linalg.norm(x)"
   ]
  },
  {
   "cell_type": "code",
   "execution_count": 172,
   "id": "7b56d387-29fb-48ad-8340-d82ea1223ade",
   "metadata": {},
   "outputs": [],
   "source": [
    "df_eigenvector=pd.DataFrame(eigenvector,index=country,columns=['rank'])"
   ]
  },
  {
   "cell_type": "code",
   "execution_count": 173,
   "id": "01ae3617-b28f-4981-88eb-dc6b199951e9",
   "metadata": {},
   "outputs": [],
   "source": [
    "df_rank = df_eigenvector.sort_values(by='rank', ascending=False)"
   ]
  },
  {
   "cell_type": "code",
   "execution_count": 174,
   "id": "de83ff96-9234-43c1-b5f9-79258e16cce6",
   "metadata": {},
   "outputs": [
    {
     "data": {
      "text/html": [
       "<div>\n",
       "<style scoped>\n",
       "    .dataframe tbody tr th:only-of-type {\n",
       "        vertical-align: middle;\n",
       "    }\n",
       "\n",
       "    .dataframe tbody tr th {\n",
       "        vertical-align: top;\n",
       "    }\n",
       "\n",
       "    .dataframe thead th {\n",
       "        text-align: right;\n",
       "    }\n",
       "</style>\n",
       "<table border=\"1\" class=\"dataframe\">\n",
       "  <thead>\n",
       "    <tr style=\"text-align: right;\">\n",
       "      <th></th>\n",
       "      <th>rank</th>\n",
       "    </tr>\n",
       "  </thead>\n",
       "  <tbody>\n",
       "    <tr>\n",
       "      <th>Brazil</th>\n",
       "      <td>0.226585</td>\n",
       "    </tr>\n",
       "    <tr>\n",
       "      <th>Spain</th>\n",
       "      <td>0.194723</td>\n",
       "    </tr>\n",
       "    <tr>\n",
       "      <th>Germany</th>\n",
       "      <td>0.179337</td>\n",
       "    </tr>\n",
       "    <tr>\n",
       "      <th>Argentina</th>\n",
       "      <td>0.175728</td>\n",
       "    </tr>\n",
       "    <tr>\n",
       "      <th>France</th>\n",
       "      <td>0.174624</td>\n",
       "    </tr>\n",
       "    <tr>\n",
       "      <th>England</th>\n",
       "      <td>0.170320</td>\n",
       "    </tr>\n",
       "    <tr>\n",
       "      <th>Netherlands</th>\n",
       "      <td>0.169864</td>\n",
       "    </tr>\n",
       "    <tr>\n",
       "      <th>Italy</th>\n",
       "      <td>0.159700</td>\n",
       "    </tr>\n",
       "    <tr>\n",
       "      <th>Hungary</th>\n",
       "      <td>0.152383</td>\n",
       "    </tr>\n",
       "    <tr>\n",
       "      <th>Mexico</th>\n",
       "      <td>0.147967</td>\n",
       "    </tr>\n",
       "  </tbody>\n",
       "</table>\n",
       "</div>"
      ],
      "text/plain": [
       "                 rank\n",
       "Brazil       0.226585\n",
       "Spain        0.194723\n",
       "Germany      0.179337\n",
       "Argentina    0.175728\n",
       "France       0.174624\n",
       "England      0.170320\n",
       "Netherlands  0.169864\n",
       "Italy        0.159700\n",
       "Hungary      0.152383\n",
       "Mexico       0.147967"
      ]
     },
     "execution_count": 174,
     "metadata": {},
     "output_type": "execute_result"
    }
   ],
   "source": [
    "df_rank.head(10)"
   ]
  },
  {
   "cell_type": "code",
   "execution_count": 175,
   "id": "eb374058-42e7-42f4-ac39-ccc18fdd7588",
   "metadata": {},
   "outputs": [],
   "source": [
    "df_rank.to_csv('Rank.csv')"
   ]
  },
  {
   "cell_type": "code",
   "execution_count": null,
   "id": "d2518bc9-a0c1-4be5-b312-b3f97d6a0b16",
   "metadata": {},
   "outputs": [],
   "source": []
  }
 ],
 "metadata": {
  "kernelspec": {
   "display_name": "Python 3",
   "language": "python",
   "name": "python3"
  },
  "language_info": {
   "codemirror_mode": {
    "name": "ipython",
    "version": 3
   },
   "file_extension": ".py",
   "mimetype": "text/x-python",
   "name": "python",
   "nbconvert_exporter": "python",
   "pygments_lexer": "ipython3",
   "version": "3.8.8"
  }
 },
 "nbformat": 4,
 "nbformat_minor": 5
}
