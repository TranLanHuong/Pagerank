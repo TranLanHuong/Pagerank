{
 "cells": [
  {
   "cell_type": "code",
   "execution_count": 1,
   "id": "82a98b1f-999d-465d-bc1d-dab2e6be2763",
   "metadata": {},
   "outputs": [],
   "source": [
    "import os\n",
    "import numpy as np\n",
    "import pandas as pd"
   ]
  },
  {
   "cell_type": "code",
   "execution_count": 2,
   "id": "50a2e47c-8791-4913-9b84-d4c02af546ff",
   "metadata": {},
   "outputs": [],
   "source": [
    "data=pd.read_csv(\"./international_results/results.csv\")"
   ]
  },
  {
   "cell_type": "code",
   "execution_count": 3,
   "id": "ed717e5a-a2f5-4512-a8d4-40ddc7176914",
   "metadata": {},
   "outputs": [
    {
     "data": {
      "text/plain": [
       "(42650, 9)"
      ]
     },
     "execution_count": 3,
     "metadata": {},
     "output_type": "execute_result"
    }
   ],
   "source": [
    "data.shape"
   ]
  },
  {
   "cell_type": "code",
   "execution_count": 4,
   "id": "6851428e-5c41-4b43-b1de-2c55bb58f218",
   "metadata": {},
   "outputs": [
    {
     "data": {
      "text/html": [
       "<div>\n",
       "<style scoped>\n",
       "    .dataframe tbody tr th:only-of-type {\n",
       "        vertical-align: middle;\n",
       "    }\n",
       "\n",
       "    .dataframe tbody tr th {\n",
       "        vertical-align: top;\n",
       "    }\n",
       "\n",
       "    .dataframe thead th {\n",
       "        text-align: right;\n",
       "    }\n",
       "</style>\n",
       "<table border=\"1\" class=\"dataframe\">\n",
       "  <thead>\n",
       "    <tr style=\"text-align: right;\">\n",
       "      <th></th>\n",
       "      <th>date</th>\n",
       "      <th>home_team</th>\n",
       "      <th>away_team</th>\n",
       "      <th>home_score</th>\n",
       "      <th>away_score</th>\n",
       "      <th>tournament</th>\n",
       "      <th>city</th>\n",
       "      <th>country</th>\n",
       "      <th>neutral</th>\n",
       "    </tr>\n",
       "  </thead>\n",
       "  <tbody>\n",
       "    <tr>\n",
       "      <th>0</th>\n",
       "      <td>1872-11-30</td>\n",
       "      <td>Scotland</td>\n",
       "      <td>England</td>\n",
       "      <td>0</td>\n",
       "      <td>0</td>\n",
       "      <td>Friendly</td>\n",
       "      <td>Glasgow</td>\n",
       "      <td>Scotland</td>\n",
       "      <td>False</td>\n",
       "    </tr>\n",
       "    <tr>\n",
       "      <th>1</th>\n",
       "      <td>1873-03-08</td>\n",
       "      <td>England</td>\n",
       "      <td>Scotland</td>\n",
       "      <td>4</td>\n",
       "      <td>2</td>\n",
       "      <td>Friendly</td>\n",
       "      <td>London</td>\n",
       "      <td>England</td>\n",
       "      <td>False</td>\n",
       "    </tr>\n",
       "    <tr>\n",
       "      <th>2</th>\n",
       "      <td>1874-03-07</td>\n",
       "      <td>Scotland</td>\n",
       "      <td>England</td>\n",
       "      <td>2</td>\n",
       "      <td>1</td>\n",
       "      <td>Friendly</td>\n",
       "      <td>Glasgow</td>\n",
       "      <td>Scotland</td>\n",
       "      <td>False</td>\n",
       "    </tr>\n",
       "    <tr>\n",
       "      <th>3</th>\n",
       "      <td>1875-03-06</td>\n",
       "      <td>England</td>\n",
       "      <td>Scotland</td>\n",
       "      <td>2</td>\n",
       "      <td>2</td>\n",
       "      <td>Friendly</td>\n",
       "      <td>London</td>\n",
       "      <td>England</td>\n",
       "      <td>False</td>\n",
       "    </tr>\n",
       "    <tr>\n",
       "      <th>4</th>\n",
       "      <td>1876-03-04</td>\n",
       "      <td>Scotland</td>\n",
       "      <td>England</td>\n",
       "      <td>3</td>\n",
       "      <td>0</td>\n",
       "      <td>Friendly</td>\n",
       "      <td>Glasgow</td>\n",
       "      <td>Scotland</td>\n",
       "      <td>False</td>\n",
       "    </tr>\n",
       "  </tbody>\n",
       "</table>\n",
       "</div>"
      ],
      "text/plain": [
       "         date home_team away_team  home_score  away_score tournament     city  \\\n",
       "0  1872-11-30  Scotland   England           0           0   Friendly  Glasgow   \n",
       "1  1873-03-08   England  Scotland           4           2   Friendly   London   \n",
       "2  1874-03-07  Scotland   England           2           1   Friendly  Glasgow   \n",
       "3  1875-03-06   England  Scotland           2           2   Friendly   London   \n",
       "4  1876-03-04  Scotland   England           3           0   Friendly  Glasgow   \n",
       "\n",
       "    country  neutral  \n",
       "0  Scotland    False  \n",
       "1   England    False  \n",
       "2  Scotland    False  \n",
       "3   England    False  \n",
       "4  Scotland    False  "
      ]
     },
     "execution_count": 4,
     "metadata": {},
     "output_type": "execute_result"
    }
   ],
   "source": [
    "data.head()"
   ]
  },
  {
   "cell_type": "code",
   "execution_count": 11,
   "id": "db548abe-9042-47a5-a83f-b3f7844fa636",
   "metadata": {},
   "outputs": [],
   "source": [
    "country=pd.concat([data['home_team'],data['away_team']]).unique()"
   ]
  },
  {
   "cell_type": "code",
   "execution_count": 14,
   "id": "35fb2ec2-1682-41a3-9a84-365c7824061b",
   "metadata": {},
   "outputs": [
    {
     "name": "stdout",
     "output_type": "stream",
     "text": [
      "country:  313\n"
     ]
    }
   ],
   "source": [
    "print(\"country: \",len(country) )"
   ]
  },
  {
   "cell_type": "code",
   "execution_count": 15,
   "id": "0d6891bd-befa-49f9-a53e-d47a8e0fa164",
   "metadata": {},
   "outputs": [
    {
     "name": "stdout",
     "output_type": "stream",
     "text": [
      "Scotland England\n"
     ]
    }
   ],
   "source": [
    "A=country[0]\n",
    "B=country[1]\n",
    "print(A,B)"
   ]
  },
  {
   "cell_type": "code",
   "execution_count": 29,
   "id": "bb22880f-020d-4876-9745-f899bf91f5e6",
   "metadata": {},
   "outputs": [],
   "source": [
    "dfAB=data[(data['home_team']==A)& (data['away_team']==B)] \n",
    "dfBA=data[(data['home_team']==B)& (data['away_team']==A)] "
   ]
  },
  {
   "cell_type": "code",
   "execution_count": 26,
   "id": "be24f558-8f2f-4432-8ecc-823962d0504e",
   "metadata": {},
   "outputs": [
    {
     "data": {
      "text/html": [
       "<div>\n",
       "<style scoped>\n",
       "    .dataframe tbody tr th:only-of-type {\n",
       "        vertical-align: middle;\n",
       "    }\n",
       "\n",
       "    .dataframe tbody tr th {\n",
       "        vertical-align: top;\n",
       "    }\n",
       "\n",
       "    .dataframe thead th {\n",
       "        text-align: right;\n",
       "    }\n",
       "</style>\n",
       "<table border=\"1\" class=\"dataframe\">\n",
       "  <thead>\n",
       "    <tr style=\"text-align: right;\">\n",
       "      <th></th>\n",
       "      <th>date</th>\n",
       "      <th>home_team</th>\n",
       "      <th>away_team</th>\n",
       "      <th>home_score</th>\n",
       "      <th>away_score</th>\n",
       "      <th>tournament</th>\n",
       "      <th>city</th>\n",
       "      <th>country</th>\n",
       "      <th>neutral</th>\n",
       "    </tr>\n",
       "  </thead>\n",
       "  <tbody>\n",
       "    <tr>\n",
       "      <th>0</th>\n",
       "      <td>1872-11-30</td>\n",
       "      <td>Scotland</td>\n",
       "      <td>England</td>\n",
       "      <td>0</td>\n",
       "      <td>0</td>\n",
       "      <td>Friendly</td>\n",
       "      <td>Glasgow</td>\n",
       "      <td>Scotland</td>\n",
       "      <td>False</td>\n",
       "    </tr>\n",
       "    <tr>\n",
       "      <th>2</th>\n",
       "      <td>1874-03-07</td>\n",
       "      <td>Scotland</td>\n",
       "      <td>England</td>\n",
       "      <td>2</td>\n",
       "      <td>1</td>\n",
       "      <td>Friendly</td>\n",
       "      <td>Glasgow</td>\n",
       "      <td>Scotland</td>\n",
       "      <td>False</td>\n",
       "    </tr>\n",
       "    <tr>\n",
       "      <th>4</th>\n",
       "      <td>1876-03-04</td>\n",
       "      <td>Scotland</td>\n",
       "      <td>England</td>\n",
       "      <td>3</td>\n",
       "      <td>0</td>\n",
       "      <td>Friendly</td>\n",
       "      <td>Glasgow</td>\n",
       "      <td>Scotland</td>\n",
       "      <td>False</td>\n",
       "    </tr>\n",
       "    <tr>\n",
       "      <th>8</th>\n",
       "      <td>1878-03-02</td>\n",
       "      <td>Scotland</td>\n",
       "      <td>England</td>\n",
       "      <td>7</td>\n",
       "      <td>2</td>\n",
       "      <td>Friendly</td>\n",
       "      <td>Glasgow</td>\n",
       "      <td>Scotland</td>\n",
       "      <td>False</td>\n",
       "    </tr>\n",
       "    <tr>\n",
       "      <th>13</th>\n",
       "      <td>1880-03-13</td>\n",
       "      <td>Scotland</td>\n",
       "      <td>England</td>\n",
       "      <td>5</td>\n",
       "      <td>4</td>\n",
       "      <td>Friendly</td>\n",
       "      <td>Glasgow</td>\n",
       "      <td>Scotland</td>\n",
       "      <td>False</td>\n",
       "    </tr>\n",
       "  </tbody>\n",
       "</table>\n",
       "</div>"
      ],
      "text/plain": [
       "          date home_team away_team  home_score  away_score tournament  \\\n",
       "0   1872-11-30  Scotland   England           0           0   Friendly   \n",
       "2   1874-03-07  Scotland   England           2           1   Friendly   \n",
       "4   1876-03-04  Scotland   England           3           0   Friendly   \n",
       "8   1878-03-02  Scotland   England           7           2   Friendly   \n",
       "13  1880-03-13  Scotland   England           5           4   Friendly   \n",
       "\n",
       "       city   country  neutral  \n",
       "0   Glasgow  Scotland    False  \n",
       "2   Glasgow  Scotland    False  \n",
       "4   Glasgow  Scotland    False  \n",
       "8   Glasgow  Scotland    False  \n",
       "13  Glasgow  Scotland    False  "
      ]
     },
     "execution_count": 26,
     "metadata": {},
     "output_type": "execute_result"
    }
   ],
   "source": [
    "dfAB.head()"
   ]
  },
  {
   "cell_type": "code",
   "execution_count": 48,
   "id": "4ee50e47-2f15-43b7-98c2-b148021aea3d",
   "metadata": {},
   "outputs": [],
   "source": [
    "dfA1=dfAB['home_score']\n",
    "dfB1=dfAB['away_score']"
   ]
  },
  {
   "cell_type": "code",
   "execution_count": null,
   "id": "6485dd10-e30e-4629-8997-5838d724690d",
   "metadata": {},
   "outputs": [],
   "source": []
  },
  {
   "cell_type": "code",
   "execution_count": 30,
   "id": "f452e947-1e68-4edb-86da-2f58e9d363a8",
   "metadata": {},
   "outputs": [
    {
     "data": {
      "text/html": [
       "<div>\n",
       "<style scoped>\n",
       "    .dataframe tbody tr th:only-of-type {\n",
       "        vertical-align: middle;\n",
       "    }\n",
       "\n",
       "    .dataframe tbody tr th {\n",
       "        vertical-align: top;\n",
       "    }\n",
       "\n",
       "    .dataframe thead th {\n",
       "        text-align: right;\n",
       "    }\n",
       "</style>\n",
       "<table border=\"1\" class=\"dataframe\">\n",
       "  <thead>\n",
       "    <tr style=\"text-align: right;\">\n",
       "      <th></th>\n",
       "      <th>date</th>\n",
       "      <th>home_team</th>\n",
       "      <th>away_team</th>\n",
       "      <th>home_score</th>\n",
       "      <th>away_score</th>\n",
       "      <th>tournament</th>\n",
       "      <th>city</th>\n",
       "      <th>country</th>\n",
       "      <th>neutral</th>\n",
       "    </tr>\n",
       "  </thead>\n",
       "  <tbody>\n",
       "    <tr>\n",
       "      <th>1</th>\n",
       "      <td>1873-03-08</td>\n",
       "      <td>England</td>\n",
       "      <td>Scotland</td>\n",
       "      <td>4</td>\n",
       "      <td>2</td>\n",
       "      <td>Friendly</td>\n",
       "      <td>London</td>\n",
       "      <td>England</td>\n",
       "      <td>False</td>\n",
       "    </tr>\n",
       "    <tr>\n",
       "      <th>3</th>\n",
       "      <td>1875-03-06</td>\n",
       "      <td>England</td>\n",
       "      <td>Scotland</td>\n",
       "      <td>2</td>\n",
       "      <td>2</td>\n",
       "      <td>Friendly</td>\n",
       "      <td>London</td>\n",
       "      <td>England</td>\n",
       "      <td>False</td>\n",
       "    </tr>\n",
       "    <tr>\n",
       "      <th>6</th>\n",
       "      <td>1877-03-03</td>\n",
       "      <td>England</td>\n",
       "      <td>Scotland</td>\n",
       "      <td>1</td>\n",
       "      <td>3</td>\n",
       "      <td>Friendly</td>\n",
       "      <td>London</td>\n",
       "      <td>England</td>\n",
       "      <td>False</td>\n",
       "    </tr>\n",
       "    <tr>\n",
       "      <th>11</th>\n",
       "      <td>1879-04-05</td>\n",
       "      <td>England</td>\n",
       "      <td>Scotland</td>\n",
       "      <td>5</td>\n",
       "      <td>4</td>\n",
       "      <td>Friendly</td>\n",
       "      <td>London</td>\n",
       "      <td>England</td>\n",
       "      <td>False</td>\n",
       "    </tr>\n",
       "    <tr>\n",
       "      <th>17</th>\n",
       "      <td>1881-03-12</td>\n",
       "      <td>England</td>\n",
       "      <td>Scotland</td>\n",
       "      <td>1</td>\n",
       "      <td>6</td>\n",
       "      <td>Friendly</td>\n",
       "      <td>London</td>\n",
       "      <td>England</td>\n",
       "      <td>False</td>\n",
       "    </tr>\n",
       "  </tbody>\n",
       "</table>\n",
       "</div>"
      ],
      "text/plain": [
       "          date home_team away_team  home_score  away_score tournament    city  \\\n",
       "1   1873-03-08   England  Scotland           4           2   Friendly  London   \n",
       "3   1875-03-06   England  Scotland           2           2   Friendly  London   \n",
       "6   1877-03-03   England  Scotland           1           3   Friendly  London   \n",
       "11  1879-04-05   England  Scotland           5           4   Friendly  London   \n",
       "17  1881-03-12   England  Scotland           1           6   Friendly  London   \n",
       "\n",
       "    country  neutral  \n",
       "1   England    False  \n",
       "3   England    False  \n",
       "6   England    False  \n",
       "11  England    False  \n",
       "17  England    False  "
      ]
     },
     "execution_count": 30,
     "metadata": {},
     "output_type": "execute_result"
    }
   ],
   "source": [
    "dfBA.head()"
   ]
  },
  {
   "cell_type": "code",
   "execution_count": 57,
   "id": "461c7f11-2e27-40db-b2a3-7969780ef8e8",
   "metadata": {},
   "outputs": [],
   "source": [
    "dfA2=dfBA['away_score']\n",
    "dfB2=dfBA['home_score']"
   ]
  },
  {
   "cell_type": "code",
   "execution_count": 58,
   "id": "84f8a860-56b5-4d2e-b889-c66a75c32349",
   "metadata": {},
   "outputs": [],
   "source": [
    "dfA=pd.concat([dfA1,dfA2],axis=0)\n",
    "dfB=pd.concat([dfB1,dfB2],axis=0)"
   ]
  },
  {
   "cell_type": "code",
   "execution_count": 59,
   "id": "96c8734f-3660-4f22-b4c7-8cd188cc1fb4",
   "metadata": {},
   "outputs": [
    {
     "data": {
      "text/plain": [
       "(117, 117)"
      ]
     },
     "execution_count": 59,
     "metadata": {},
     "output_type": "execute_result"
    }
   ],
   "source": [
    "len(dfA),len(dfB)"
   ]
  },
  {
   "cell_type": "code",
   "execution_count": 74,
   "id": "0149d821-0f57-4581-b770-11c42bd0c439",
   "metadata": {},
   "outputs": [],
   "source": [
    "n_games=len(dfA)\n",
    "win_A=0\n",
    "win_B=0\n",
    "draw_AB=0\n",
    "for i in range(n_games):\n",
    "    a=dfA.iloc[i]\n",
    "    b=dfB.iloc[i]\n",
    "    if (a>b):\n",
    "        win_A+=1\n",
    "    elif (a<b):\n",
    "        win_B+=1\n",
    "    else:\n",
    "        draw_AB+=1"
   ]
  },
  {
   "cell_type": "code",
   "execution_count": 75,
   "id": "18aebefb-8e63-4615-8a7a-33391ffa045c",
   "metadata": {},
   "outputs": [
    {
     "name": "stdout",
     "output_type": "stream",
     "text": [
      "Scotland win:  42 ;  England win:  48 ; draw:  27\n"
     ]
    }
   ],
   "source": [
    "print(A, \"win: \", win_A,\"; \" ,B,\"win: \", win_B,\"; draw: \", draw_AB)"
   ]
  },
  {
   "cell_type": "code",
   "execution_count": 76,
   "id": "41b46877-92f9-442b-8907-1768f9a3ea22",
   "metadata": {},
   "outputs": [
    {
     "name": "stdout",
     "output_type": "stream",
     "text": [
      "Scotland win:  55.5 ;  England win:  61.5\n"
     ]
    }
   ],
   "source": [
    "win_A+=draw_AB/2\n",
    "win_B+=draw_AB/2\n",
    "print(A, \"win: \", win_A,\"; \" ,B,\"win: \", win_B)"
   ]
  },
  {
   "cell_type": "code",
   "execution_count": 77,
   "id": "83968c8f-5471-4fe9-ad74-fc8c9ff6f687",
   "metadata": {},
   "outputs": [
    {
     "name": "stdout",
     "output_type": "stream",
     "text": [
      "Scotland  to  England 0.5256410256410257 ;  England  to  Scotland 0.47435897435897434\n"
     ]
    }
   ],
   "source": [
    "print(A, \" to \", B, win_B/n_games,\"; \" ,B,\" to \", A, win_A/n_games)"
   ]
  },
  {
   "cell_type": "code",
   "execution_count": 83,
   "id": "4d2272c0-f4a7-4218-9b48-ed7399d7729e",
   "metadata": {},
   "outputs": [],
   "source": [
    "def calculate_weight(A,B):\n",
    "    dfAB=data[(data['home_team']==A)& (data['away_team']==B)]\n",
    "    dfA1=dfAB['home_score']\n",
    "    dfB1=dfAB['away_score']\n",
    "    dfBA=data[(data['home_team']==B)& (data['away_team']==A)]\n",
    "    dfA2=dfBA['away_score']\n",
    "    dfB2=dfBA['home_score']\n",
    "    \n",
    "    dfA=pd.concat([dfA1,dfA2],axis=0)\n",
    "    dfB=pd.concat([dfB1,dfB2],axis=0)\n",
    "    \n",
    "    n_games=len(dfA)\n",
    "    if (n_games>0):\n",
    "        win_A=0\n",
    "        win_B=0\n",
    "        draw_AB=0\n",
    "        for i in range(n_games):\n",
    "            a=dfA.iloc[i]\n",
    "            b=dfB.iloc[i]\n",
    "            if (a>b):\n",
    "                win_A+=1\n",
    "            elif (a<b):\n",
    "                win_B+=1\n",
    "            else:\n",
    "                draw_AB+=1\n",
    "\n",
    "        win_A+=draw_AB/2\n",
    "        win_B+=draw_AB/2\n",
    "\n",
    "        AtoB=win_B/n_games\n",
    "        BtoA=win_A/n_games\n",
    "    else:\n",
    "        AtoB=0.0\n",
    "        BtoA=0.0\n",
    "    return (AtoB,BtoA)\n",
    "    "
   ]
  },
  {
   "cell_type": "code",
   "execution_count": 79,
   "id": "c48e4931-1ea7-4af5-b822-4c00b2902d6f",
   "metadata": {},
   "outputs": [
    {
     "name": "stdout",
     "output_type": "stream",
     "text": [
      "Scotland England\n",
      "Scotland  to  England 0.5256410256410257 ;  England  to  Scotland 0.47435897435897434\n"
     ]
    }
   ],
   "source": [
    "A=country[0]\n",
    "B=country[1]\n",
    "print(A,B)\n",
    "AtoB,BtoA=calculate_weight(A,B)\n",
    "print(A, \" to \", B, AtoB,\"; \" ,B,\" to \", A, BtoA)"
   ]
  },
  {
   "cell_type": "code",
   "execution_count": 80,
   "id": "b23ac699-5a95-432d-a6e8-142342b704cd",
   "metadata": {},
   "outputs": [
    {
     "name": "stdout",
     "output_type": "stream",
     "text": [
      "country:  313\n"
     ]
    }
   ],
   "source": [
    "n=len(country)\n",
    "print(\"country: \",n)"
   ]
  },
  {
   "cell_type": "code",
   "execution_count": 81,
   "id": "70bd2087-6b13-4051-a609-937855021fba",
   "metadata": {},
   "outputs": [],
   "source": [
    "M=np.zeros((n,n))"
   ]
  },
  {
   "cell_type": "code",
   "execution_count": 84,
   "id": "9d05ce22-658f-4c50-9ec6-185a78d3dc9d",
   "metadata": {},
   "outputs": [],
   "source": [
    "for i in range(n):\n",
    "    for j in range(i+1,n):\n",
    "        A=country[i]\n",
    "        B=country[j]\n",
    "        AtoB,BtoA=calculate_weight(A,B)\n",
    "        M[i,j]=AtoB\n",
    "        M[j,i]=BtoA"
   ]
  },
  {
   "cell_type": "code",
   "execution_count": 85,
   "id": "9b18e9f3-4f6d-4d28-948b-a6ac64f4f572",
   "metadata": {},
   "outputs": [],
   "source": [
    "np.save('weights.npy', M)"
   ]
  },
  {
   "cell_type": "code",
   "execution_count": 86,
   "id": "8f3d32c1-f0a0-4731-8a85-fc47e7f5d422",
   "metadata": {},
   "outputs": [],
   "source": [
    "dfm=pd.DataFrame(M,columns=country,index=country)"
   ]
  },
  {
   "cell_type": "code",
   "execution_count": 87,
   "id": "10e78db5-f5f5-484d-a6bf-0d1419c2674e",
   "metadata": {},
   "outputs": [
    {
     "data": {
      "text/html": [
       "<div>\n",
       "<style scoped>\n",
       "    .dataframe tbody tr th:only-of-type {\n",
       "        vertical-align: middle;\n",
       "    }\n",
       "\n",
       "    .dataframe tbody tr th {\n",
       "        vertical-align: top;\n",
       "    }\n",
       "\n",
       "    .dataframe thead th {\n",
       "        text-align: right;\n",
       "    }\n",
       "</style>\n",
       "<table border=\"1\" class=\"dataframe\">\n",
       "  <thead>\n",
       "    <tr style=\"text-align: right;\">\n",
       "      <th></th>\n",
       "      <th>Scotland</th>\n",
       "      <th>England</th>\n",
       "      <th>Wales</th>\n",
       "      <th>Northern Ireland</th>\n",
       "      <th>United States</th>\n",
       "      <th>Uruguay</th>\n",
       "      <th>Austria</th>\n",
       "      <th>Hungary</th>\n",
       "      <th>Argentina</th>\n",
       "      <th>Belgium</th>\n",
       "      <th>...</th>\n",
       "      <th>Timor-Leste</th>\n",
       "      <th>Myanmar</th>\n",
       "      <th>Parishes of Jersey</th>\n",
       "      <th>Chameria</th>\n",
       "      <th>Saint Helena</th>\n",
       "      <th>Asturias</th>\n",
       "      <th>Western Australia</th>\n",
       "      <th>Two Sicilies</th>\n",
       "      <th>Surrey</th>\n",
       "      <th>Malabo</th>\n",
       "    </tr>\n",
       "  </thead>\n",
       "  <tbody>\n",
       "    <tr>\n",
       "      <th>Scotland</th>\n",
       "      <td>0.000000</td>\n",
       "      <td>0.525641</td>\n",
       "      <td>0.320755</td>\n",
       "      <td>0.247368</td>\n",
       "      <td>0.350000</td>\n",
       "      <td>0.625000</td>\n",
       "      <td>0.522727</td>\n",
       "      <td>0.555556</td>\n",
       "      <td>0.625</td>\n",
       "      <td>0.725000</td>\n",
       "      <td>...</td>\n",
       "      <td>0.0</td>\n",
       "      <td>0.0</td>\n",
       "      <td>0.0</td>\n",
       "      <td>0.0</td>\n",
       "      <td>0.0</td>\n",
       "      <td>0.0</td>\n",
       "      <td>0.0</td>\n",
       "      <td>0.0</td>\n",
       "      <td>0.0</td>\n",
       "      <td>0.0</td>\n",
       "    </tr>\n",
       "    <tr>\n",
       "      <th>England</th>\n",
       "      <td>0.474359</td>\n",
       "      <td>0.000000</td>\n",
       "      <td>0.245192</td>\n",
       "      <td>0.151515</td>\n",
       "      <td>0.227273</td>\n",
       "      <td>0.590909</td>\n",
       "      <td>0.315789</td>\n",
       "      <td>0.260870</td>\n",
       "      <td>0.400</td>\n",
       "      <td>0.250000</td>\n",
       "      <td>...</td>\n",
       "      <td>0.0</td>\n",
       "      <td>0.0</td>\n",
       "      <td>0.0</td>\n",
       "      <td>0.0</td>\n",
       "      <td>0.0</td>\n",
       "      <td>0.0</td>\n",
       "      <td>0.0</td>\n",
       "      <td>0.0</td>\n",
       "      <td>0.0</td>\n",
       "      <td>0.0</td>\n",
       "    </tr>\n",
       "    <tr>\n",
       "      <th>Wales</th>\n",
       "      <td>0.679245</td>\n",
       "      <td>0.754808</td>\n",
       "      <td>0.000000</td>\n",
       "      <td>0.398936</td>\n",
       "      <td>0.750000</td>\n",
       "      <td>0.750000</td>\n",
       "      <td>0.600000</td>\n",
       "      <td>0.454545</td>\n",
       "      <td>0.750</td>\n",
       "      <td>0.535714</td>\n",
       "      <td>...</td>\n",
       "      <td>0.0</td>\n",
       "      <td>0.0</td>\n",
       "      <td>0.0</td>\n",
       "      <td>0.0</td>\n",
       "      <td>0.0</td>\n",
       "      <td>0.0</td>\n",
       "      <td>0.0</td>\n",
       "      <td>0.0</td>\n",
       "      <td>0.0</td>\n",
       "      <td>0.0</td>\n",
       "    </tr>\n",
       "    <tr>\n",
       "      <th>Northern Ireland</th>\n",
       "      <td>0.752632</td>\n",
       "      <td>0.848485</td>\n",
       "      <td>0.601064</td>\n",
       "      <td>0.000000</td>\n",
       "      <td>0.500000</td>\n",
       "      <td>0.500000</td>\n",
       "      <td>0.576923</td>\n",
       "      <td>0.750000</td>\n",
       "      <td>1.000</td>\n",
       "      <td>0.333333</td>\n",
       "      <td>...</td>\n",
       "      <td>0.0</td>\n",
       "      <td>0.0</td>\n",
       "      <td>0.0</td>\n",
       "      <td>0.0</td>\n",
       "      <td>0.0</td>\n",
       "      <td>0.0</td>\n",
       "      <td>0.0</td>\n",
       "      <td>0.0</td>\n",
       "      <td>0.0</td>\n",
       "      <td>0.0</td>\n",
       "    </tr>\n",
       "    <tr>\n",
       "      <th>United States</th>\n",
       "      <td>0.650000</td>\n",
       "      <td>0.772727</td>\n",
       "      <td>0.250000</td>\n",
       "      <td>0.500000</td>\n",
       "      <td>0.000000</td>\n",
       "      <td>0.416667</td>\n",
       "      <td>0.666667</td>\n",
       "      <td>0.500000</td>\n",
       "      <td>0.700</td>\n",
       "      <td>0.833333</td>\n",
       "      <td>...</td>\n",
       "      <td>0.0</td>\n",
       "      <td>0.0</td>\n",
       "      <td>0.0</td>\n",
       "      <td>0.0</td>\n",
       "      <td>0.0</td>\n",
       "      <td>0.0</td>\n",
       "      <td>0.0</td>\n",
       "      <td>0.0</td>\n",
       "      <td>0.0</td>\n",
       "      <td>0.0</td>\n",
       "    </tr>\n",
       "  </tbody>\n",
       "</table>\n",
       "<p>5 rows × 313 columns</p>\n",
       "</div>"
      ],
      "text/plain": [
       "                  Scotland   England     Wales  Northern Ireland  \\\n",
       "Scotland          0.000000  0.525641  0.320755          0.247368   \n",
       "England           0.474359  0.000000  0.245192          0.151515   \n",
       "Wales             0.679245  0.754808  0.000000          0.398936   \n",
       "Northern Ireland  0.752632  0.848485  0.601064          0.000000   \n",
       "United States     0.650000  0.772727  0.250000          0.500000   \n",
       "\n",
       "                  United States   Uruguay   Austria   Hungary  Argentina  \\\n",
       "Scotland               0.350000  0.625000  0.522727  0.555556      0.625   \n",
       "England                0.227273  0.590909  0.315789  0.260870      0.400   \n",
       "Wales                  0.750000  0.750000  0.600000  0.454545      0.750   \n",
       "Northern Ireland       0.500000  0.500000  0.576923  0.750000      1.000   \n",
       "United States          0.000000  0.416667  0.666667  0.500000      0.700   \n",
       "\n",
       "                   Belgium  ...  Timor-Leste  Myanmar  Parishes of Jersey  \\\n",
       "Scotland          0.725000  ...          0.0      0.0                 0.0   \n",
       "England           0.250000  ...          0.0      0.0                 0.0   \n",
       "Wales             0.535714  ...          0.0      0.0                 0.0   \n",
       "Northern Ireland  0.333333  ...          0.0      0.0                 0.0   \n",
       "United States     0.833333  ...          0.0      0.0                 0.0   \n",
       "\n",
       "                  Chameria  Saint Helena  Asturias  Western Australia  \\\n",
       "Scotland               0.0           0.0       0.0                0.0   \n",
       "England                0.0           0.0       0.0                0.0   \n",
       "Wales                  0.0           0.0       0.0                0.0   \n",
       "Northern Ireland       0.0           0.0       0.0                0.0   \n",
       "United States          0.0           0.0       0.0                0.0   \n",
       "\n",
       "                  Two Sicilies  Surrey  Malabo  \n",
       "Scotland                   0.0     0.0     0.0  \n",
       "England                    0.0     0.0     0.0  \n",
       "Wales                      0.0     0.0     0.0  \n",
       "Northern Ireland           0.0     0.0     0.0  \n",
       "United States              0.0     0.0     0.0  \n",
       "\n",
       "[5 rows x 313 columns]"
      ]
     },
     "execution_count": 87,
     "metadata": {},
     "output_type": "execute_result"
    }
   ],
   "source": [
    "dfm.head()"
   ]
  },
  {
   "cell_type": "code",
   "execution_count": 88,
   "id": "faa56052-e4f1-4ed4-af83-486424708431",
   "metadata": {},
   "outputs": [],
   "source": [
    "dfm.to_csv(\"Weights.csv\")"
   ]
  },
  {
   "cell_type": "code",
   "execution_count": 89,
   "id": "46200ab8-01e9-4111-8b19-dc83a3b0eeef",
   "metadata": {},
   "outputs": [
    {
     "data": {
      "text/plain": [
       "array([[0.        , 0.52564103],\n",
       "       [0.47435897, 0.        ]])"
      ]
     },
     "execution_count": 89,
     "metadata": {},
     "output_type": "execute_result"
    }
   ],
   "source": [
    "M[:2,:2]"
   ]
  },
  {
   "cell_type": "code",
   "execution_count": 90,
   "id": "6a7bbeee-c8ab-46ec-827f-623b285c28e0",
   "metadata": {},
   "outputs": [
    {
     "name": "stdout",
     "output_type": "stream",
     "text": [
      "0.15 313\n"
     ]
    }
   ],
   "source": [
    "#damping_factor d\n",
    "damping_factor=0.15\n",
    "N=len(M)\n",
    "print(damping_factor,N)"
   ]
  },
  {
   "cell_type": "code",
   "execution_count": 91,
   "id": "72d0e001-0ed9-4dec-960e-aaa3555bf4bf",
   "metadata": {},
   "outputs": [],
   "source": [
    "M_sum=M.sum(axis=0)"
   ]
  },
  {
   "cell_type": "code",
   "execution_count": 92,
   "id": "6a35dbe8-c078-4e98-9c8f-ecde06bfc0d7",
   "metadata": {},
   "outputs": [
    {
     "data": {
      "text/plain": [
       "43.65614544469071"
      ]
     },
     "execution_count": 92,
     "metadata": {},
     "output_type": "execute_result"
    }
   ],
   "source": [
    "M_sum[0]"
   ]
  },
  {
   "cell_type": "code",
   "execution_count": 116,
   "id": "60a79b63-4060-40db-946e-bd1b41281493",
   "metadata": {},
   "outputs": [],
   "source": [
    "W=M.T"
   ]
  },
  {
   "cell_type": "code",
   "execution_count": 117,
   "id": "3883d2c9-b4c3-4d83-9f36-07538b8fb6bf",
   "metadata": {},
   "outputs": [],
   "source": [
    "P=np.zeros_like(W)\n",
    "for j in range(N):\n",
    "    s=W[:,j].sum()\n",
    "    if (s!=0):\n",
    "        P[:,j]=W[:,j]/s"
   ]
  },
  {
   "cell_type": "code",
   "execution_count": 118,
   "id": "0f59b4dd-68fc-4abb-9503-5e1ff9fb05dc",
   "metadata": {},
   "outputs": [],
   "source": [
    "Q=(1-damping_factor)*P+damping_factor/N"
   ]
  },
  {
   "cell_type": "code",
   "execution_count": 119,
   "id": "f902e8c6-42ee-47af-bbf0-ef858e769c84",
   "metadata": {},
   "outputs": [],
   "source": [
    "eigenvector=np.ones(N)/N"
   ]
  },
  {
   "cell_type": "code",
   "execution_count": 126,
   "id": "3fc13f6f-6198-4e8d-a3a4-f617e93682fc",
   "metadata": {},
   "outputs": [],
   "source": [
    "max_iteration=100\n",
    "for i in range(max_iteration):\n",
    "    x=np.dot(Q,eigenvector)\n",
    "    eigenvector=x/x.sum()"
   ]
  },
  {
   "cell_type": "code",
   "execution_count": 127,
   "id": "7b56d387-29fb-48ad-8340-d82ea1223ade",
   "metadata": {},
   "outputs": [],
   "source": [
    "df_eigenvector=pd.DataFrame(eigenvector,index=country,columns=['rank'])"
   ]
  },
  {
   "cell_type": "code",
   "execution_count": 128,
   "id": "01ae3617-b28f-4981-88eb-dc6b199951e9",
   "metadata": {},
   "outputs": [],
   "source": [
    "df_rank = df_eigenvector.sort_values(by='rank', ascending=False)"
   ]
  },
  {
   "cell_type": "code",
   "execution_count": 131,
   "id": "de83ff96-9234-43c1-b5f9-79258e16cce6",
   "metadata": {},
   "outputs": [
    {
     "data": {
      "text/html": [
       "<div>\n",
       "<style scoped>\n",
       "    .dataframe tbody tr th:only-of-type {\n",
       "        vertical-align: middle;\n",
       "    }\n",
       "\n",
       "    .dataframe tbody tr th {\n",
       "        vertical-align: top;\n",
       "    }\n",
       "\n",
       "    .dataframe thead th {\n",
       "        text-align: right;\n",
       "    }\n",
       "</style>\n",
       "<table border=\"1\" class=\"dataframe\">\n",
       "  <thead>\n",
       "    <tr style=\"text-align: right;\">\n",
       "      <th></th>\n",
       "      <th>rank</th>\n",
       "    </tr>\n",
       "  </thead>\n",
       "  <tbody>\n",
       "    <tr>\n",
       "      <th>Brazil</th>\n",
       "      <td>0.013652</td>\n",
       "    </tr>\n",
       "    <tr>\n",
       "      <th>Spain</th>\n",
       "      <td>0.012317</td>\n",
       "    </tr>\n",
       "    <tr>\n",
       "      <th>Germany</th>\n",
       "      <td>0.011370</td>\n",
       "    </tr>\n",
       "    <tr>\n",
       "      <th>England</th>\n",
       "      <td>0.011340</td>\n",
       "    </tr>\n",
       "    <tr>\n",
       "      <th>Argentina</th>\n",
       "      <td>0.011134</td>\n",
       "    </tr>\n",
       "    <tr>\n",
       "      <th>Netherlands</th>\n",
       "      <td>0.011105</td>\n",
       "    </tr>\n",
       "    <tr>\n",
       "      <th>France</th>\n",
       "      <td>0.010873</td>\n",
       "    </tr>\n",
       "    <tr>\n",
       "      <th>Italy</th>\n",
       "      <td>0.010634</td>\n",
       "    </tr>\n",
       "    <tr>\n",
       "      <th>Mexico</th>\n",
       "      <td>0.010414</td>\n",
       "    </tr>\n",
       "    <tr>\n",
       "      <th>Russia</th>\n",
       "      <td>0.010325</td>\n",
       "    </tr>\n",
       "    <tr>\n",
       "      <th>Padania</th>\n",
       "      <td>0.010145</td>\n",
       "    </tr>\n",
       "    <tr>\n",
       "      <th>Sweden</th>\n",
       "      <td>0.009913</td>\n",
       "    </tr>\n",
       "    <tr>\n",
       "      <th>Hungary</th>\n",
       "      <td>0.009684</td>\n",
       "    </tr>\n",
       "    <tr>\n",
       "      <th>Portugal</th>\n",
       "      <td>0.009640</td>\n",
       "    </tr>\n",
       "    <tr>\n",
       "      <th>Uruguay</th>\n",
       "      <td>0.009338</td>\n",
       "    </tr>\n",
       "    <tr>\n",
       "      <th>Poland</th>\n",
       "      <td>0.009283</td>\n",
       "    </tr>\n",
       "    <tr>\n",
       "      <th>Norway</th>\n",
       "      <td>0.009061</td>\n",
       "    </tr>\n",
       "    <tr>\n",
       "      <th>South Korea</th>\n",
       "      <td>0.009060</td>\n",
       "    </tr>\n",
       "    <tr>\n",
       "      <th>Ellan Vannin</th>\n",
       "      <td>0.008945</td>\n",
       "    </tr>\n",
       "    <tr>\n",
       "      <th>Chile</th>\n",
       "      <td>0.008921</td>\n",
       "    </tr>\n",
       "  </tbody>\n",
       "</table>\n",
       "</div>"
      ],
      "text/plain": [
       "                  rank\n",
       "Brazil        0.013652\n",
       "Spain         0.012317\n",
       "Germany       0.011370\n",
       "England       0.011340\n",
       "Argentina     0.011134\n",
       "Netherlands   0.011105\n",
       "France        0.010873\n",
       "Italy         0.010634\n",
       "Mexico        0.010414\n",
       "Russia        0.010325\n",
       "Padania       0.010145\n",
       "Sweden        0.009913\n",
       "Hungary       0.009684\n",
       "Portugal      0.009640\n",
       "Uruguay       0.009338\n",
       "Poland        0.009283\n",
       "Norway        0.009061\n",
       "South Korea   0.009060\n",
       "Ellan Vannin  0.008945\n",
       "Chile         0.008921"
      ]
     },
     "execution_count": 131,
     "metadata": {},
     "output_type": "execute_result"
    }
   ],
   "source": [
    "df_rank.head(20)"
   ]
  },
  {
   "cell_type": "code",
   "execution_count": null,
   "id": "eb374058-42e7-42f4-ac39-ccc18fdd7588",
   "metadata": {},
   "outputs": [],
   "source": []
  }
 ],
 "metadata": {
  "kernelspec": {
   "display_name": "Python 3",
   "language": "python",
   "name": "python3"
  },
  "language_info": {
   "codemirror_mode": {
    "name": "ipython",
    "version": 3
   },
   "file_extension": ".py",
   "mimetype": "text/x-python",
   "name": "python",
   "nbconvert_exporter": "python",
   "pygments_lexer": "ipython3",
   "version": "3.8.8"
  }
 },
 "nbformat": 4,
 "nbformat_minor": 5
}
